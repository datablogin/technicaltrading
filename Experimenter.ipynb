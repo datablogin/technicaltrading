{
 "cells": [
  {
   "cell_type": "code",
   "id": "57718a3dbcc90225",
   "metadata": {
    "collapsed": true,
    "ExecuteTime": {
     "end_time": "2025-02-22T23:26:31.113255Z",
     "start_time": "2025-02-22T23:26:30.022588Z"
    }
   },
   "source": [
    "import cv2\n",
    "import numpy as np\n",
    "from scipy.signal import find_peaks\n",
    "import matplotlib.pyplot as plt\n",
    "import pandas as pd"
   ],
   "outputs": [],
   "execution_count": 16
  },
  {
   "metadata": {
    "ExecuteTime": {
     "end_time": "2025-02-22T23:25:14.316594Z",
     "start_time": "2025-02-22T23:25:14.311547Z"
    }
   },
   "cell_type": "code",
   "source": [
    "\n",
    "def extract_price_data(image_path):\n",
    "    \"\"\"\n",
    "    Extracts a price series from the image by averaging pixel values along rows.\n",
    "    The result is normalized to a specified price range.\n",
    "    \"\"\"\n",
    "    img = cv2.imread(image_path, cv2.IMREAD_GRAYSCALE)\n",
    "    height, width = img.shape\n",
    "    # Average each row and invert the array to simulate a bottom-origin axis.\n",
    "    prices = np.mean(img, axis=1)[::-1]\n",
    "    # Clip the background (assumed white=255) to remove its influence.\n",
    "    prices = np.clip(prices, 0, 254)\n",
    "    \n",
    "    # Normalize to your chart’s price range (e.g., $47.5–$65.0)\n",
    "    min_price, max_price = 47.5, 65.0\n",
    "    # Invert the scaling to match the chart (higher grayscale values = lower prices)\n",
    "    normalized_prices = max_price - (max_price - min_price) * (prices - np.min(prices)) / (np.max(prices) - np.min(prices))\n",
    "    return normalized_prices\n"
   ],
   "id": "c50b9c8492c773b2",
   "outputs": [],
   "execution_count": 9
  },
  {
   "metadata": {
    "ExecuteTime": {
     "end_time": "2025-02-22T23:25:15.283899Z",
     "start_time": "2025-02-22T23:25:15.279606Z"
    }
   },
   "cell_type": "code",
   "source": [
    "def moving_average(data, window_size=5):\n",
    "    \"\"\"\n",
    "    Applies a simple moving average filter to smooth the data.\n",
    "    \"\"\"\n",
    "    return np.convolve(data, np.ones(window_size)/window_size, mode='same')\n"
   ],
   "id": "940785affe9c9759",
   "outputs": [],
   "execution_count": 10
  },
  {
   "metadata": {
    "ExecuteTime": {
     "end_time": "2025-02-22T23:25:16.201664Z",
     "start_time": "2025-02-22T23:25:16.195436Z"
    }
   },
   "cell_type": "code",
   "source": [
    "def detect_pattern(prices, similarity_threshold=5.0, breakout_threshold=15.0, distance=20):\n",
    "    \"\"\"\n",
    "    Detects double top or double bottom patterns in a price series.\n",
    "    Returns the detected pattern, decision, auxiliary pattern data, and the indices of peaks and troughs.\n",
    "    \"\"\"\n",
    "    # Detect troughs (for double bottom) and peaks (for double top)\n",
    "    troughs, _ = find_peaks(-prices, distance=distance, height=48.0)\n",
    "    peaks, _ = find_peaks(prices, distance=distance, height=60.0)\n",
    "\n",
    "    pattern = \"No Pattern\"\n",
    "    decision = \"Hold\"\n",
    "    pattern_data = {}\n",
    "\n",
    "    # Check for double bottom (buy signal)\n",
    "    if len(troughs) >= 2:\n",
    "        t1, t2 = troughs[-2], troughs[-1]\n",
    "        if abs(prices[t1] - prices[t2]) < similarity_threshold:\n",
    "            peak_between = max(prices[t1:t2])\n",
    "            if t2 < len(prices) - 1 and prices[t2 + 1] > peak_between + breakout_threshold:\n",
    "                pattern = \"Double Bottom\"\n",
    "                decision = \"Buy\"\n",
    "                pattern_data = {\"troughs\": [t1, t2]}\n",
    "\n",
    "    # Check for double top (sell signal)\n",
    "    if len(peaks) >= 2:\n",
    "        p1, p2 = peaks[-2], peaks[-1]\n",
    "        if abs(prices[p1] - prices[p2]) < similarity_threshold:\n",
    "            trough_between = min(prices[p1:p2])\n",
    "            if p2 < len(prices) - 1 and prices[p2 + 1] < trough_between - breakout_threshold:\n",
    "                pattern = \"Double Top\"\n",
    "                decision = \"Sell\"\n",
    "                pattern_data = {\"peaks\": [p1, p2]}\n",
    "\n",
    "    return pattern, decision, pattern_data, peaks, troughs\n"
   ],
   "id": "ddd64d96374b180b",
   "outputs": [],
   "execution_count": 11
  },
  {
   "metadata": {
    "ExecuteTime": {
     "end_time": "2025-02-22T23:25:17.271547Z",
     "start_time": "2025-02-22T23:25:17.266516Z"
    }
   },
   "cell_type": "code",
   "source": [
    "def markup_image(image_path, prices, pattern, pattern_data, peaks, troughs):\n",
    "    \"\"\"\n",
    "    Draws markers (circles) on the original image where peaks or troughs were detected.\n",
    "    \"\"\"\n",
    "    img = cv2.imread(image_path)\n",
    "    height, width = img.shape[:2]\n",
    "    \n",
    "    if pattern == \"Double Bottom\" and \"troughs\" in pattern_data:\n",
    "        for t in pattern_data[\"troughs\"]:\n",
    "            x = int(t * width / len(prices))\n",
    "            # Map price to y-coordinate (with a small vertical buffer)\n",
    "            y = int((prices[t] - np.min(prices)) / (np.max(prices) - np.min(prices)) * (height - 30) + 15)\n",
    "            cv2.circle(img, (x, y), 10, (0, 255, 0), 2)  # Green circle\n",
    "    elif pattern == \"Double Top\" and \"peaks\" in pattern_data:\n",
    "        for p in pattern_data[\"peaks\"]:\n",
    "            x = int(p * width / len(prices))\n",
    "            y = int((prices[p] - np.min(prices)) / (np.max(prices) - np.min(prices)) * (height - 30) + 15)\n",
    "            cv2.circle(img, (x, y), 10, (0, 0, 255), 2)  # Red circle\n",
    "    return img\n"
   ],
   "id": "80df15d2270bdefb",
   "outputs": [],
   "execution_count": 12
  },
  {
   "metadata": {
    "ExecuteTime": {
     "end_time": "2025-02-22T23:25:18.740787Z",
     "start_time": "2025-02-22T23:25:18.734436Z"
    }
   },
   "cell_type": "code",
   "source": [
    "def run_experiment(image_path, smoothing_window=5):\n",
    "    \"\"\"\n",
    "    Runs the experiment using both raw and smoothed price data.\n",
    "    Prints debug information, marks the image with detected patterns,\n",
    "    and plots the price series for visual inspection.\n",
    "    \"\"\"\n",
    "    # Extract raw price data from the image\n",
    "    raw_prices = extract_price_data(image_path)\n",
    "    # Apply a moving average smoothing filter\n",
    "    smoothed_prices = moving_average(raw_prices, window_size=smoothing_window)\n",
    "    similarity_threshold=5.0\n",
    "    breakout_threshold=15.0\n",
    "    distance=20\n",
    "    # Detect patterns on both raw and smoothed data\n",
    "    pattern_raw, decision_raw, pattern_data_raw, peaks_raw, troughs_raw = detect_pattern(raw_prices,similarity_threshold, breakout_threshold, distance)\n",
    "    pattern_smoothed, decision_smoothed, pattern_data_smoothed, peaks_smoothed, troughs_smoothed = detect_pattern(smoothed_prices,similarity_threshold, breakout_threshold, distance)\n",
    "\n",
    "    print(\"Raw Data Detection:\")\n",
    "    print(\"  Pattern:\", pattern_raw, \"| Decision:\", decision_raw)\n",
    "    print(\"  Peaks indices:\", peaks_raw)\n",
    "    print(\"  Troughs indices:\", troughs_raw)\n",
    "    print(\"\\nSmoothed Data Detection (window={}):\".format(smoothing_window))\n",
    "    print(\"  Pattern:\", pattern_smoothed, \"| Decision:\", decision_smoothed)\n",
    "    print(\"  Peaks indices:\", peaks_smoothed)\n",
    "    print(\"  Troughs indices:\", troughs_smoothed)\n",
    "\n",
    "    # Choose which detection result to mark on the image.\n",
    "    # Here we use the smoothed data result.\n",
    "    marked_img = markup_image(image_path, smoothed_prices, pattern_smoothed, pattern_data_smoothed, peaks_smoothed, troughs_smoothed)\n",
    "    output_path = \"experiment_output.png\"\n",
    "    cv2.imwrite(output_path, marked_img)\n",
    "    print(\"\\nMarked image saved as\", output_path)\n",
    "\n",
    "    # Plot raw and smoothed price series for comparison\n",
    "    plt.figure(figsize=(10, 5))\n",
    "    plt.plot(raw_prices, label='Raw Prices')\n",
    "    plt.plot(smoothed_prices, label='Smoothed Prices', linestyle='--')\n",
    "    plt.title(\"Price Data: Raw vs. Smoothed\")\n",
    "    plt.xlabel(\"Time Index\")\n",
    "    plt.ylabel(\"Price\")\n",
    "    plt.legend()\n",
    "    plt.show()\n",
    "    plt.close()"
   ],
   "id": "b26aee5fd80594be",
   "outputs": [],
   "execution_count": 13
  },
  {
   "metadata": {
    "ExecuteTime": {
     "end_time": "2025-02-23T00:21:21.319627Z",
     "start_time": "2025-02-23T00:21:21.202050Z"
    }
   },
   "cell_type": "code",
   "source": [
    "\n",
    "if __name__ == '__main__':\n",
    "    # Update with the path to your chart image\n",
    "    image_path = r\"static\\output.png\"\n",
    "    run_experiment(image_path, smoothing_window=10)\n"
   ],
   "id": "initial_id",
   "outputs": [
    {
     "name": "stdout",
     "output_type": "stream",
     "text": [
      "Raw Data Detection:\n",
      "  Pattern: No Pattern | Decision: Hold\n",
      "  Peaks indices: [ 65 527]\n",
      "  Troughs indices: []\n",
      "\n",
      "Smoothed Data Detection (window=10):\n",
      "  Pattern: No Pattern | Decision: Hold\n",
      "  Peaks indices: []\n",
      "  Troughs indices: []\n",
      "\n",
      "Marked image saved as experiment_output.png\n"
     ]
    },
    {
     "data": {
      "text/plain": [
       "<Figure size 1000x500 with 1 Axes>"
      ],
      "image/png": "[encoded data removed]"
     },
     "metadata": {},
     "output_type": "display_data"
    }
   ],
   "execution_count": 39
  },
  {
   "metadata": {
    "ExecuteTime": {
     "end_time": "2025-02-23T00:19:44.002442Z",
     "start_time": "2025-02-23T00:19:43.990991Z"
    }
   },
   "cell_type": "code",
   "source": "normalised_prices1=pd.DataFrame(extract_price_data(image_path))",
   "id": "a07197c25a40c9bb",
   "outputs": [],
   "execution_count": 36
  },
  {
   "metadata": {
    "ExecuteTime": {
     "end_time": "2025-02-23T00:19:50.835680Z",
     "start_time": "2025-02-23T00:19:50.814274Z"
    }
   },
   "cell_type": "code",
   "source": [
    "html_table = normalised_prices1.to_markdown()\n",
    "print(normalised_prices1.iloc[65])\n",
    "print(normalised_prices1.iloc[527])"
   ],
   "id": "1fc2255663341191",
   "outputs": [
    {
     "name": "stdout",
     "output_type": "stream",
     "text": [
      "0    65.0\n",
      "Name: 65, dtype: float64\n",
      "0    65.0\n",
      "Name: 527, dtype: float64\n"
     ]
    }
   ],
   "execution_count": 37
  },
  {
   "metadata": {
    "ExecuteTime": {
     "end_time": "2025-02-23T00:21:25.566303Z",
     "start_time": "2025-02-23T00:21:25.538957Z"
    }
   },
   "cell_type": "code",
   "source": [
    "normalised_prices2 = pd.DataFrame(extract_price_data(image_path))\n",
    "html_table = normalised_prices2.to_markdown()\n",
    "print(normalised_prices2.iloc[65])\n",
    "print(normalised_prices2.iloc[527])"
   ],
   "id": "d3e7825a4c003fb6",
   "outputs": [
    {
     "name": "stdout",
     "output_type": "stream",
     "text": [
      "0    65.0\n",
      "Name: 65, dtype: float64\n",
      "0    65.0\n",
      "Name: 527, dtype: float64\n"
     ]
    }
   ],
   "execution_count": 40
  },
  {
   "metadata": {},
   "cell_type": "code",
   "outputs": [],
   "execution_count": null,
   "source": "",
   "id": "818d2cfa4ee0b43c"
  }
 ],
 "metadata": {
  "kernelspec": {
   "display_name": "Python 3",
   "language": "python",
   "name": "python3"
  },
  "language_info": {
   "codemirror_mode": {
    "name": "ipython",
    "version": 2
   },
   "file_extension": ".py",
   "mimetype": "text/x-python",
   "name": "python",
   "nbconvert_exporter": "python",
   "pygments_lexer": "ipython2",
   "version": "2.7.6"
  }
 },
 "nbformat": 4,
 "nbformat_minor": 5
}
